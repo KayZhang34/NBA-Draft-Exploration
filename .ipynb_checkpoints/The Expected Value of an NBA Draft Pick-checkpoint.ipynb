{
 "cells": [
  {
   "cell_type": "markdown",
   "metadata": {},
   "source": [
    "# The Expected Value of an NBA Draft"
   ]
  },
  {
   "cell_type": "markdown",
   "metadata": {},
   "source": [
    "## 1.0 Introduction\n",
    "\n",
    "The game of basketball is forever changing. Trends come and go, teams rise and fall, players' legacies are constantly being  written and re-written. \n",
    "\n",
    "Perhaps more than in any other sport, a single player can be the difference maker for a franchise. While teams can acquire players through a few different methods (drafts, signings, and trades), some of the most compelling stories that the NBA has to offer explore a \"Chosen One\" narrative: a young prospect turned superstar that brings the team that drafted them into championship contetion. (Ex: Magic Johson, Tim Duncan, LeBron James)\n",
    "\n",
    "For every success story, however, there are a few \"busts\" along the way. How often do we see a team place their hopes in some 19-20 year old touted as \"The Next Michael Jordan\" only for this same team to remain in the lottery for years to come? On the other end, there seem to some \"hidden gems\" taken later in the draft that come up and surprise people with their production.\n",
    "\n",
    "Human behaviour is so difficult to predict and there are limitless factors that effect player performance. Teams might not always scout correctly or coach properly, and players might not perform or develop as expected. Win Shares, VORP, and Plus/Minus are far from perfect measures of player value, and there are so many unfounded expectations and overwhelming uncertainties. Such is the nature of the NBA Draft.\n",
    "\n",
    "**In this article, I aim to quantify value of different draft picks and explore how draft position might be related to player performance**. We likely will not find a terribly strong, generalizable model in our analysis, but this exploration *might* still provide insight on the nature of NBA draft picks."
   ]
  },
  {
   "cell_type": "markdown",
   "metadata": {},
   "source": [
    "## 2.0 Methodology\n",
    "\n",
    "**Sample**: We have pulled 16 draft classes (1989 to 2005) as our sample (n = 962 players).\n",
    "\n",
    "We begin from 1989 because the modern draft format (two rounds of draft picks) was introduced in 1989, and the NBA has kept the two-round format since then. We end with 2005 because there are players drafted in 2006 and beyond that might still produce \"prime\" seasons.\n",
    "\n",
    "**Player Value**: To measure the “value” of each draftee, I am using a statistic referenced on [BoxScoreGeeks.com][1]: Brocato Prime Wins. We are interested in a draftee’s **five** best regular seasons organized by **total Win Shares** (WS). \n",
    "\n",
    "We will refer to this measure as \"Prime Win Shares\", \"Prime Wins\", or \"Prime WS\" from this point forward.\n",
    "\n",
    "**Data Sources**: I pulled Draft Position data from [Basketball-Reference.com][2] & I pulled Regular Season data from [Kaggle.com][3]\n",
    "\n",
    "**Data Analysis**: The analysis was done using Python. Data was organized using Pandas, numerical operations were implemented using NumPy and scikit-learn, statstical tests were performed using SciPy & Statsmodels, and plots were drawn using Plotly.\n",
    "\n",
    "**Notes**:\n",
    "1. What to do with draftees that did not play in the NBA or play 5 seasons?\n",
    "    * We will include any/all the seasons we can, but seasons of absence we will fill with no production: 0 Win Shares.\n",
    "    * Likewise, \"non-players\" will be treated as though they produced 0 Win Shares over their entire career.\n",
    "    * We want to include these abscences because at the end of the day, we wish to determine the value of a draft pick. Even if the draft pick was used on a player that never played in the NBA, this should still be accounted for in our dataset.\n",
    "\n",
    "2. Why use total Win Shares instead of time/pace adjusted measures?\n",
    "    * I decided to use total Win Shares over Win Shares per 48 Minutes (WS/48), because I wanted to value overall impact over efficiency.\n",
    "    * Players with high WS/48 might be highly efficient, but their impact is limited if they are rarely on the court.\n",
    "    * A player with relatively lower WS/48 that plays many more minutes can still provide great utility for a team/franchise.\n",
    "\n",
    "3. Why are we using the five best seasons?\n",
    "    * According to [The Guardian][4], The average nba career length is around 4.9 years. Five seasons of data should cover the average nba career.\n",
    "    * Using the five *best* seasons will give us an idea of the player's peak. I wish to ignore injuries and would like to mostly look at player peaks.\n",
    "\n",
    "**Confounding Effects?**\n",
    "\n",
    "1. Draft Position and Team Investment\n",
    "    * Differences in draft position may be coupled with different degrees of team investment.\n",
    "    * Franchises could be more inclined to build their team around a player on which they have used a higher draft pick. This would could positvely impact draftee's on court performance.\n",
    "    * By design, higher draft picks are supposed to go to worse teams. Less talented prospects might not have to play as well to be awarded with more minutes, and on average, more minutes produces more Win Shares. \n",
    "\n",
    "\n",
    "2. Draft Position and Personal Investment\n",
    "    * Differenes in draft position come with differences in player salary.\n",
    "    * Players with more money can afford to invest in themselves to a greater degree.\n",
    "    * While teams/coaches should be investing in their own players, and the NBA pays its players very well, there is still an inherent difference in pay between different picks of the same draft class.\n",
    "    * Ex: In 1989, the first overall pick, Pervis Ellison, recieved \\\\$2.4 million from the Sacremento Kings. The first pick in the 2nd round (28th overall), Sherman Douglas, was only paid \\\\$325k. \n",
    "    \n",
    "\n",
    "[1]:https://www.boxscoregeeks.com/articles/twenty-players-better-than-kobe \"Some Kobe H8er Article\"\n",
    "[2]:https://www.basketball-reference.com/draft/NBA_1989.html \"Yes, I did have to export 16 different pages\"\n",
    "[3]:https://www.kaggle.com/drgilermo/nba-players-stats?select=Seasons_Stats.csv \"I'm pretty sure this is also just pulled from bbref\"\n",
    "[4]:https://www.theguardian.com/sport/2015/nov/30/the-kobe-bryant-outlier-how-his-career-compares-to-the-nba-average#:~:text=Among%20the%203%2C668%20players%20Wilczynski,career%20length%20was%204.9%20years \"The Kobe Bryant outlier\""
   ]
  },
  {
   "cell_type": "code",
   "execution_count": 22,
   "metadata": {},
   "outputs": [],
   "source": [
    "import plotly.express as px\n",
    "import plotly.graph_objects as go\n",
    "import plotly.io as pio\n",
    "pio.renderers.default = 'iframe'\n",
    "import pandas as pd\n",
    "import numpy as np\n",
    "\n",
    "\n",
    "#Writing a funtion that returns a scatterplot with a trendline from a linear least squares regression\n",
    "def ScatterChart(file, indep_var, stat):\n",
    "    df = pd.read_excel(file) #Read the excel file in as a dataframe\n",
    "    fig = px.scatter(df, x= indep_var, \n",
    "                  y= stat, trendline=\"ols\",\n",
    "                  title=('Draft Position v. Prime ' + str(stat))) #Create scatterplot w/ a linear trendline from the dataframe\n",
    "    fig.show() #Display Scatterplot\n",
    "\n",
    "#Writing a function that will provide our dataframe with a Residuals column\n",
    "def Residuals(dataframe, stat):\n",
    "    X = dataframe.iloc[:, dataframe.columns.get_loc('Draft Position')].values.reshape(-1, 1) # Get X values into array format\n",
    "    Y = dataframe.iloc[:, dataframe.columns.get_loc(stat)].values.reshape(-1, 1) # Get Y values into array format\n",
    "    regressor = LinearRegression() \n",
    "    regressor.fit(X, Y)  # Perform linear regression\n",
    "  \n",
    "    Y_pred = regressor.predict(X) # Get our trendline such that we can calcualte residuals (Observed - Modeled data)\n",
    "    dataframe['Residuals'] = Y-Y_pred # Get residuals into array format\n",
    "    "
   ]
  },
  {
   "cell_type": "code",
   "execution_count": 23,
   "metadata": {},
   "outputs": [],
   "source": [
    "from sklearn.linear_model import LinearRegression\n",
    "from sklearn.metrics import r2_score\n",
    "\n",
    "\n",
    "#Writing a function that returns the equation from a linear least squares regression as well as the R-Squared \n",
    "def LinearEquation(file, x, stat):\n",
    "    df = pd.read_excel(file) #Read the excel file in as a dataframe\n",
    "    X = df.iloc[:, df.columns.get_loc(x)].values.reshape(-1, 1) # Get X values into array format\n",
    "    Y = df.iloc[:, df.columns.get_loc(stat)].values.reshape(-1, 1) # Get Y values into array format\n",
    "    regressor = LinearRegression() \n",
    "    regressor.fit(X, Y)\n",
    "    Y_pred = regressor.predict(X)\n",
    "    \n",
    "    y = ('Prime ' + str(stat))\n",
    "    m = regressor.coef_[0][0]\n",
    "    x = 'Draft Position'\n",
    "    b = regressor.intercept_[0]\n",
    "    r2 = r2_score(Y,Y_pred)\n",
    "    print('{0} = ({1} * {2}) + {3}'.format(y,m,x,b))\n",
    "    \n",
    "    print('R^2: {0}'.format(r2))"
   ]
  },
  {
   "cell_type": "markdown",
   "metadata": {},
   "source": [
    "## 3.0 Analysis"
   ]
  },
  {
   "cell_type": "markdown",
   "metadata": {},
   "source": [
    "### 3.1 Draft Position vs. Prime Wins: Ordinary Least Squares"
   ]
  },
  {
   "cell_type": "code",
   "execution_count": 24,
   "metadata": {},
   "outputs": [
    {
     "data": {
      "text/html": [
       "<iframe\n",
       "    scrolling=\"no\"\n",
       "    width=\"100%\"\n",
       "    height=\"545px\"\n",
       "    src=\"iframe_figures/figure_24.html\"\n",
       "    frameborder=\"0\"\n",
       "    allowfullscreen\n",
       "></iframe>\n"
      ]
     },
     "metadata": {},
     "output_type": "display_data"
    }
   ],
   "source": [
    "ScatterChart(\"Prime_WS.xlsx\",'Draft Position','WS')"
   ]
  },
  {
   "cell_type": "code",
   "execution_count": 25,
   "metadata": {},
   "outputs": [
    {
     "name": "stdout",
     "output_type": "stream",
     "text": [
      "Prime WS = (-0.5221335726657379 * Draft Position) + 27.300597336678003\n",
      "R^2: 0.2855679686535073\n"
     ]
    }
   ],
   "source": [
    "LinearEquation(\"Prime_WS.xlsx\",'Draft Position','WS')"
   ]
  },
  {
   "cell_type": "markdown",
   "metadata": {},
   "source": [
    "### 3.1.1 Linear Analysis: Initial Thoughts\n",
    "\n",
    "The above shows all of the players plotted by their Draft Position & Prime Win Shares, a ordinarly least squares regression has also been applied to our data, and the trendline is displayed on our scatter plot.\n",
    "\n",
    "We *do* have a trendline with a negative slope, signaling that teams generally select players that produce more Prime Wins earlier in the draft. The $R^2$ value, however, is pretty weak. Our current linear model is very poorly describing our dataset. \n",
    "\n",
    "For this next section, we will check the assumptions of a linear model.\n",
    "\n",
    "    0. Multicollinearity: Since we only have one independent variable, by design we will not have any issues with multicollinearity.\n",
    "    1. Linearity: We will be looking in to a Q-Q plot of Predicted Prime Wins v. Observed Prime Wins. If our data is linear, we should expect to see an even distribution about the trendline. If the Q-Q plot does not reflect this, we will reject this assumption\n",
    "    2. No Autocorrelation: We will perform a Durbin-Watson Test. If our data returns a test statistic outside of the range 1.5 to 2.5, this would indicate that our data is Autocorrelated, and we would reject this assumption.\n",
    "    3. Multivariate Normality: We will be performing a Kolmogorov-Smirnov test and plotting our residuals on a histogram.We should expect to see our residuals normally distributed about 0. If the p-value returned from our test is below 0.05, we will also reject this assumption.\n",
    "    4. Homoscedasticity: "
   ]
  },
  {
   "cell_type": "markdown",
   "metadata": {},
   "source": [
    "#### Assumption 1: Linearity"
   ]
  },
  {
   "cell_type": "code",
   "execution_count": 26,
   "metadata": {},
   "outputs": [],
   "source": [
    "#Writing a function that checks for linearity\n",
    "def Linearity(file,stat):\n",
    "    df = pd.read_excel(file) #Read the excel file in as a dataframe\n",
    "    X = df.iloc[:, 2].values.reshape(-1, 1) # Get X values into array format\n",
    "    Y = df.iloc[:, df.columns.get_loc(stat)].values.reshape(-1, 1) # Get Y values into array format\n",
    "    regressor = LinearRegression() \n",
    "    regressor.fit(X, Y)  # Perform linear regression\n",
    "    \n",
    "    df['predicted'] = regressor.predict(X)\n",
    "    \n",
    "    linFig = px.scatter(df, x= 'predicted',\n",
    "                        y= 'WS',\n",
    "                        title=('Linearity: Predicted v. actual'),\n",
    "                        width=900,\n",
    "                        height=1200) #Create scatterplot \n",
    "    \n",
    "    linFig.add_trace(go.Scatter(x= [-5,28],\n",
    "                                y= [-5,28],\n",
    "                                mode='lines',\n",
    "                                showlegend=False)) #Add Linear Trendline\n",
    "    \n",
    "    linFig.update_layout(\n",
    "        xaxis_title=\"Predicted\",\n",
    "        yaxis_title=\"Actual\")\n",
    "    \n",
    "    linFig.show()"
   ]
  },
  {
   "cell_type": "code",
   "execution_count": 27,
   "metadata": {},
   "outputs": [
    {
     "data": {
      "text/html": [
       "<iframe\n",
       "    scrolling=\"no\"\n",
       "    width=\"920px\"\n",
       "    height=\"1220\"\n",
       "    src=\"iframe_figures/figure_27.html\"\n",
       "    frameborder=\"0\"\n",
       "    allowfullscreen\n",
       "></iframe>\n"
      ]
     },
     "metadata": {},
     "output_type": "display_data"
    }
   ],
   "source": [
    "Linearity(\"Prime_WS.xlsx\",'WS')"
   ]
  },
  {
   "cell_type": "markdown",
   "metadata": {},
   "source": [
    "The above graph plots predicted Prime Wins against observed Prime Wins from our dataset. For data with linear relationships, we would expect expect the data points in the above graph to be symetrically distributed about the diagonal.\n",
    "\n",
    "From this scatter plot, we see that some observed values reach far above our predicted trendline, while other values are densely packed around the 0 across the board.\n",
    "\n",
    "For this reason, we conclude that our data is not linear, therefore voiding our first assumption."
   ]
  },
  {
   "cell_type": "markdown",
   "metadata": {},
   "source": [
    "#### Assumption 2: No Autocorrelation"
   ]
  },
  {
   "cell_type": "markdown",
   "metadata": {},
   "source": [
    "We are looking to test for autocorrelation within our model. We will be using the Durbin-Watson Test.\n",
    "\n",
    "Any result within the set [1.5, 2.5] would susgest that our data has no issues with autocorrelation.\n",
    "\n",
    "i.e. For us to properly apply a linear model to our NBA Draft dataset, we should hope that the test statistic is between 1.5 and 2.5."
   ]
  },
  {
   "cell_type": "code",
   "execution_count": 28,
   "metadata": {},
   "outputs": [],
   "source": [
    "from statsmodels.stats.stattools import durbin_watson\n",
    "\n",
    "# Writing a funciton that tests for Autocorrelation\n",
    "def Autocorrelation(file,stat):\n",
    "    df = pd.read_excel(file) #Read the excel file in as a dataframe\n",
    "    Residuals(df, stat)\n",
    "    \n",
    "    durbinWatson = durbin_watson(df['Residuals'])\n",
    "    print('Durbin-Watson test result:', durbinWatson)"
   ]
  },
  {
   "cell_type": "code",
   "execution_count": 29,
   "metadata": {
    "scrolled": false
   },
   "outputs": [
    {
     "name": "stdout",
     "output_type": "stream",
     "text": [
      "Durbin-Watson test result: 2.0399169648169355\n"
     ]
    }
   ],
   "source": [
    "Autocorrelation(\"Prime_WS.xlsx\",'WS')"
   ]
  },
  {
   "cell_type": "markdown",
   "metadata": {},
   "source": [
    "Since our Durbin-Watson test returned a result less than 1.5, this indicates that our data is positively autocorrelated. This disproves another one of the assumptions that is required to apply our linear model."
   ]
  },
  {
   "cell_type": "markdown",
   "metadata": {},
   "source": [
    "#### Assumption 3: Multivariate normality"
   ]
  },
  {
   "cell_type": "code",
   "execution_count": 30,
   "metadata": {},
   "outputs": [],
   "source": [
    "from scipy.stats import kstest\n",
    "\n",
    "#Writing a function that tests Multivariate Normality\n",
    "def MultiNormality(file,stat):\n",
    "    df = pd.read_excel(file) #Read the excel file in as a dataframe\n",
    "    Residuals(df, stat)\n",
    "    \n",
    "    resFig = fig = px.histogram(df, x=\"Residuals\")\n",
    "    resFig.update_layout(\n",
    "        title=\"Residual Distribution\",\n",
    "        xaxis_title=(\"Residuals\"),\n",
    "        yaxis_title=\"Count\") #Reformat Residual Graph\n",
    "    resFig.show() #Display residuals in histogram format\n",
    "    print(kstest(df['Residuals'], 'norm'))"
   ]
  },
  {
   "cell_type": "code",
   "execution_count": 31,
   "metadata": {},
   "outputs": [
    {
     "data": {
      "text/html": [
       "<iframe\n",
       "    scrolling=\"no\"\n",
       "    width=\"100%\"\n",
       "    height=\"545px\"\n",
       "    src=\"iframe_figures/figure_31.html\"\n",
       "    frameborder=\"0\"\n",
       "    allowfullscreen\n",
       "></iframe>\n"
      ]
     },
     "metadata": {},
     "output_type": "display_data"
    },
    {
     "name": "stdout",
     "output_type": "stream",
     "text": [
      "KstestResult(statistic=0.4801190236741144, pvalue=1.8541071658634794e-204)\n"
     ]
    }
   ],
   "source": [
    "MultiNormality(\"Prime_WS.xlsx\",'WS')"
   ]
  },
  {
   "cell_type": "markdown",
   "metadata": {},
   "source": [
    "Our Kolmogorov-Smirnov test returns an embarrassingly small p-value. This rejects the our assumption and indicates that our residuals are not normally distributed.\n",
    "\n",
    "Just looking at the residual plot, the data appears strongly right-skewed. \n",
    "\n",
    "One reason for this skew could be related to the competitive nature of playing time within the league. Worse performing players will recieve less playing time. With fewer minutes, worse players will have less opportunities to severly underperform. Conversely, great players will recieve *more* playing time, giving them more opportunities to produce more Win Shares.\n",
    "\n",
    "I.e. the way minutes are distrubuted in the league, we can expect to have more extreme \"overachievers\", and have relatively less outstanding \"underachievers\"."
   ]
  },
  {
   "cell_type": "markdown",
   "metadata": {},
   "source": [
    "#### Assumption 4: Homoscedasticity\n",
    "\n",
    "Finally, we are testing for any homoscedasticity in our model. We will be using the Goldfeld-Quandt test. This test assumes that our model is homoscedastic, and will provide a p-value for this assumption.\n",
    "\n",
    "We will reject our assumption that our model is homoscedastic if the test returns a p-value below .05."
   ]
  },
  {
   "cell_type": "code",
   "execution_count": 32,
   "metadata": {},
   "outputs": [],
   "source": [
    "from statsmodels.stats.diagnostic import het_goldfeldquandt\n",
    "\n",
    "def Homosced(file,stat):\n",
    "    df = pd.read_excel(file) #Read the excel file in as a dataframe\n",
    "    X = df.iloc[:, df.columns.get_loc('Draft Position')].values.reshape(-1, 1) # Get X values into array format\n",
    "    Residuals(df, stat)\n",
    "    \n",
    "    fig = px.scatter(df, x=\"Draft Position\", y= 'Residuals')\n",
    "    \n",
    "    goldfeldResult = het_goldfeldquandt(df['Residuals'], X)\n",
    "    print('Goldfeld-Quandt test \\nF Statistic: {0} \\np-value: {1}'.format(goldfeldResult[0], goldfeldResult[1]))\n",
    "    \n",
    "    fig.show() #Display Scatterplot"
   ]
  },
  {
   "cell_type": "code",
   "execution_count": 33,
   "metadata": {},
   "outputs": [
    {
     "name": "stdout",
     "output_type": "stream",
     "text": [
      "Goldfeld-Quandt test \n",
      "F Statistic: 0.9317480771183729 \n",
      "p-value: 0.7805100988309035\n"
     ]
    },
    {
     "data": {
      "text/html": [
       "<iframe\n",
       "    scrolling=\"no\"\n",
       "    width=\"100%\"\n",
       "    height=\"545px\"\n",
       "    src=\"iframe_figures/figure_33.html\"\n",
       "    frameborder=\"0\"\n",
       "    allowfullscreen\n",
       "></iframe>\n"
      ]
     },
     "metadata": {},
     "output_type": "display_data"
    }
   ],
   "source": [
    "Homosced(\"Prime_WS.xlsx\",'WS')"
   ]
  },
  {
   "cell_type": "markdown",
   "metadata": {},
   "source": [
    "The Goldfeld-Quandt test returns a p-value significantly below 0.05; therefore, we will reject the assumption in favor of assuming that our model is heteroscedastic. We do not fulfill the final assumption of Homoscedasticity.\n",
    "\n",
    "Every assumption that we tested for seemed to fail. Applying a linear model to this dataset is not accurate or valid. We should look for a different way to model our data."
   ]
  },
  {
   "cell_type": "markdown",
   "metadata": {},
   "source": [
    "## 3.2 Draft Position vs. Prime Wins:  Log Transformation\n",
    "\n",
    "From a narrative perspective, an inverse logarithmic relationship between Draft Position and Prime Wins would make sense as the league tends to be somewhat \"top heavy\" between players when investigating most statistics. On [Basketball-Reference.com][2], it even states that when looking at BPM, \"there are far more below-average players than above-average players in the league at any time\".\n",
    "\n",
    "If we ignore undrafted players and assume draft pools mimic the player pool of the entire NBA, we can excpect each draft to be comprised of a few strong performers, while most of the draft is made up of less impactful players. Hence, \\***there can be a large difference between selecting 1st and selecting 5th**.\n",
    "\n",
    "On the other side, the difference between **the 55th and 60th picks may be relatively small** for somewhat related reasons. Towards the end of the draft, where many prospects might appear to be future \"below average\" players, so many draftees become \"non-players\" in our dataset. Whether these picks are were caught in a contract with another league, or they just weren't impressing NBA teams, many later picks end up with 0 Prime Win Shares.\n",
    "\n",
    "This might \"dampen' the value of later draft picks and might keep the average measure of Prime Wins closer to 0 for the later draft positions.\n",
    "\n",
    "[2]:https://www.basketball-reference.com/about/bpm2.html"
   ]
  },
  {
   "cell_type": "markdown",
   "metadata": {},
   "source": [
    "\\* Note: Aiming to find one value for a specific draft position is also pretty unreasonable since every draft class is different. High draft picks will hold inconsistent value from year to year depending on the strength of the prospects. The 1st overall pick in particular has varied wildly over the years. Even at the time of their respective drafts, LeBron James was a very different prospect from someone like Anthony Bennet, Andrea Bargnani, or even LeBron's own teammate Anthony Davis."
   ]
  },
  {
   "cell_type": "markdown",
   "metadata": {},
   "source": [
    "### 3.2.1 Draft Position vs. log(Prime Wins) Results:"
   ]
  },
  {
   "cell_type": "code",
   "execution_count": 39,
   "metadata": {},
   "outputs": [],
   "source": [
    "#Writing a function to apply log transformtion on given files\n",
    "\n",
    "def LogTransform (file,stat):\n",
    "    df = pd.read_excel(file) #Read the excel file in as a dataframe\n",
    "    df['log(' + stat + ')'] = np.log(df[stat]+(abs(df[stat].min())+1)) #Log Transform the data\n",
    "    df.to_excel('Prime_logWS.xlsx', index=False) #Writing our transformed data in to a new Excel file\n",
    "\n",
    "LogTransform(\"Prime_WS.xlsx\", 'WS')"
   ]
  },
  {
   "cell_type": "code",
   "execution_count": 41,
   "metadata": {
    "scrolled": true
   },
   "outputs": [
    {
     "data": {
      "text/html": [
       "<iframe\n",
       "    scrolling=\"no\"\n",
       "    width=\"100%\"\n",
       "    height=\"545px\"\n",
       "    src=\"iframe_figures/figure_41.html\"\n",
       "    frameborder=\"0\"\n",
       "    allowfullscreen\n",
       "></iframe>\n"
      ]
     },
     "metadata": {},
     "output_type": "display_data"
    }
   ],
   "source": [
    "ScatterChart('Prime_logWS.xlsx','Draft Position','log(WS)')"
   ]
  },
  {
   "cell_type": "code",
   "execution_count": 43,
   "metadata": {},
   "outputs": [
    {
     "name": "stdout",
     "output_type": "stream",
     "text": [
      "Prime log(WS) = (-0.037849525834157585 * Draft Position) + 3.208237225643058\n",
      "R^2: 0.3160884231779767\n"
     ]
    }
   ],
   "source": [
    "LinearEquation('Prime_logWS.xlsx','Draft Position','log(WS)')"
   ]
  },
  {
   "cell_type": "markdown",
   "metadata": {},
   "source": [
    "While we return a marginally stronger $R^2$ of 0.316, the data is still looks very off, and our model appears to be very unreliable.\n",
    "\n"
   ]
  },
  {
   "cell_type": "markdown",
   "metadata": {},
   "source": [
    "### 3.2.2 Applying our Model\n",
    "\n",
    "In this next section, I want to dive in to specific examples in NBA history where teams have traded draft picks.\n",
    "\n",
    "As mentioned previously, this model (as it stands currently) is not very precise or accurate, but this should be an interesting exercise."
   ]
  },
  {
   "cell_type": "markdown",
   "metadata": {},
   "source": [
    "#### Example 1: The 1995 Shawn Respert Trade\n",
    "\n",
    "June 28th 1995, the Detroit Pistons and the Portland Trail Blazers swapped a few selections that they had made that same day.\n",
    "\n",
    "This is a good trade to analyze, as these picks are all from the same draft, the draft position had already been known, and none of these draftees had played in the NBA yet so everyone was still an uncertain prospect.\n",
    "\n",
    "**Detroit Pistons**: \n",
    "* Traded Away: 1995 Pick \\#8. (i.e. Shawn Respert)\n",
    "* Recieved: 1995 Pick \\#18, 1995 Pick \\#19, and 1995 Pick \\#58. (i.e. Theo Ratliff, Randolph Childress, and Don Reid)\n",
    "\n",
    "**Portland Trail Blazers**:\n",
    "* Traded Away: 1995 Pick \\#18, 1995 Pick \\#19, and 1995 Pick \\#58. (i.e. Theo Ratliff, Randolph Childress, and Don Reid)\n",
    "* Recieved: 1995 Pick \\#8. (i.e. Shawn Respert)\n",
    "\n",
    "**Expected**: If we were to use our log transformed model to predict Prime Win Shares (Section 3.2)\n",
    "* Trail Blazers Recieved: \\#8. This pick is expected to provide **15.573 Prime Wins**\n",
    "* Pistons Received: \\#18, \\#19, and \\#58, These picks are expected to provide **19.219 Prime Wins**\n",
    "\n",
    "Our model suggests that the Blazers slightly lose this trade by around 3.646 Prime Wins (15.573 - 19.219). This is a pretty negligible margin, and this trade doesn't seem that bad/good for side.\n",
    "\n",
    "**Actual**:\n",
    "* Trail Blazers Recieved: Shawn Respert: 2.1\n",
    "* Pistons Received: Theo Ratliff: 28.1, Randolph Childress: -0.2, and Don Reid: 11.8\n",
    "\n",
    "In reality, the Trail Blazers lose this trade badly. None of the modeled values come very close to their respective projections anyway, so I'm not sure if I would've helped them very much.\n",
    "\n",
    "Who knew Sixers Legend Theo Ratliff would be such a beast."
   ]
  },
  {
   "cell_type": "markdown",
   "metadata": {},
   "source": [
    "## 3.3 What if Every Team Drafts Perfectly? (\"Re-draft\")\n",
    "\n",
    "With the first overall pick, every player is available to you. The second pick, every player minus 1. The third pick... so on and so forth. In a weird way, draft busts and steals only exist because of imperfect scouting/development.\n",
    "\n",
    "In our fantasy scenario, let's see what happens if we assume that each selection in every draft was \"perfect\": i.e. they took the \"best\" player availalbe every time (we're assuming that the players' careers play out the same way cuz yolo)."
   ]
  },
  {
   "cell_type": "code",
   "execution_count": 52,
   "metadata": {},
   "outputs": [],
   "source": [
    "def redraft(file):\n",
    "    df = pd.read_excel(file) #Read the excel file in as a dataframe\n",
    "    df = df.sort_values(by=['Draft Class','WS'], ascending=False, ignore_index=True) #Sort by Draft Class & Prime Wins\n",
    "    counts = df['Draft Class'].value_counts()\n",
    "    counts = counts.sort_index(ascending = False)\n",
    "    \n",
    "    redraft = []\n",
    "    for draftClass in range(len(counts)):\n",
    "        for pick in range(counts.iloc[draftClass]):\n",
    "            redraft.append(pick+1)\n",
    "    \n",
    "    df['ReDraft Position'] = redraft\n",
    "    df.to_excel('Redraft.xlsx', index=False)"
   ]
  },
  {
   "cell_type": "code",
   "execution_count": 53,
   "metadata": {},
   "outputs": [],
   "source": [
    "redraft(\"Prime_WS.xlsx\")"
   ]
  },
  {
   "cell_type": "code",
   "execution_count": 58,
   "metadata": {
    "scrolled": false
   },
   "outputs": [
    {
     "data": {
      "text/html": [
       "<iframe\n",
       "    scrolling=\"no\"\n",
       "    width=\"100%\"\n",
       "    height=\"545px\"\n",
       "    src=\"iframe_figures/figure_58.html\"\n",
       "    frameborder=\"0\"\n",
       "    allowfullscreen\n",
       "></iframe>\n"
      ]
     },
     "metadata": {},
     "output_type": "display_data"
    }
   ],
   "source": [
    "ScatterChart(\"Redraft.xlsx\", 'ReDraft Position','WS')"
   ]
  },
  {
   "cell_type": "code",
   "execution_count": 59,
   "metadata": {},
   "outputs": [
    {
     "name": "stdout",
     "output_type": "stream",
     "text": [
      "Prime WS = (-0.839443035229705 * Draft Position) + 36.448807257895915\n",
      "R^2: 0.7381229605116488\n"
     ]
    }
   ],
   "source": [
    "LinearEquation(\"Redraft.xlsx\", 'ReDraft Position' ,'WS')"
   ]
  },
  {
   "cell_type": "markdown",
   "metadata": {},
   "source": [
    "### 3.3.1 Re-Draft Results\n",
    "\n",
    "With the benefit of hindsight, the correlation is much stronger than before. We established before, however, that our fantasy \"Re-Draft\" that the relationship appears to be more logrithmic. What if we apply the log transform to this data set as well?"
   ]
  },
  {
   "cell_type": "markdown",
   "metadata": {},
   "source": [
    "### 3.3.2 Re-applying our Fantasy Model\n",
    "\n",
    "Let's revisit our previous example now: The 1995 Shawn Respert Trade."
   ]
  },
  {
   "cell_type": "code",
   "execution_count": 60,
   "metadata": {},
   "outputs": [],
   "source": [
    "def LogTransform (file,stat):\n",
    "    df = pd.read_excel(file) #Read the excel file in as a dataframe\n",
    "    df['log(' + stat + ')'] = np.log(df[stat]+(abs(df[stat].min())+1)) #Log Transform the data\n",
    "    df.to_excel('RePrime_logWS.xlsx', index=False) #Writing our transformed data in to a new Excel file\n",
    "\n",
    "LogTransform(\"Redraft.xlsx\", 'WS')"
   ]
  },
  {
   "cell_type": "code",
   "execution_count": 61,
   "metadata": {},
   "outputs": [
    {
     "data": {
      "text/html": [
       "<iframe\n",
       "    scrolling=\"no\"\n",
       "    width=\"100%\"\n",
       "    height=\"545px\"\n",
       "    src=\"iframe_figures/figure_61.html\"\n",
       "    frameborder=\"0\"\n",
       "    allowfullscreen\n",
       "></iframe>\n"
      ]
     },
     "metadata": {},
     "output_type": "display_data"
    }
   ],
   "source": [
    "ScatterChart(\"RePrime_logWS.xlsx\", 'ReDraft Position','log(WS)')"
   ]
  },
  {
   "cell_type": "code",
   "execution_count": 62,
   "metadata": {},
   "outputs": [
    {
     "name": "stdout",
     "output_type": "stream",
     "text": [
      "Prime log(WS) = (-0.06437679953826883 * Draft Position) + 3.973033417102024\n",
      "R^2: 0.9144215825701276\n"
     ]
    }
   ],
   "source": [
    "LinearEquation(\"RePrime_logWS.xlsx\", 'ReDraft Position' ,'log(WS)')"
   ]
  },
  {
   "cell_type": "markdown",
   "metadata": {},
   "source": [
    "### 3.3.1 \"Re-Draft\" Position vs. log(Prime Wins) Results:\n",
    "\n",
    "We return a fairly strong R-squared of 0.9144"
   ]
  },
  {
   "cell_type": "markdown",
   "metadata": {},
   "source": [
    "## Remove Outliers\n",
    "\n",
    "Track medians and inner quartiles of each Draft Position.\n",
    "\n",
    "I expect to see wide ranges for early draft picks. Outside of the lottery, the range from Q1 to Q3 should probably shrink tremendously.\n",
    "\n",
    "Work in Progress..."
   ]
  },
  {
   "cell_type": "code",
   "execution_count": 50,
   "metadata": {},
   "outputs": [],
   "source": [
    "def BoxPlot(file,stat):\n",
    "    df = pd.read_excel(file) #Read the excel file in as a dataframe\n",
    "    fig = px.box(df, x=\"Draft Position\", y= stat)\n",
    "    fig.show()"
   ]
  },
  {
   "cell_type": "code",
   "execution_count": 51,
   "metadata": {
    "scrolled": false
   },
   "outputs": [
    {
     "data": {
      "text/html": [
       "<iframe\n",
       "    scrolling=\"no\"\n",
       "    width=\"100%\"\n",
       "    height=\"545px\"\n",
       "    src=\"iframe_figures/figure_51.html\"\n",
       "    frameborder=\"0\"\n",
       "    allowfullscreen\n",
       "></iframe>\n"
      ]
     },
     "metadata": {},
     "output_type": "display_data"
    }
   ],
   "source": [
    "BoxPlot(\"Prime_WS.xlsx\",'WS')"
   ]
  },
  {
   "cell_type": "markdown",
   "metadata": {},
   "source": [
    "### Example 2: Markelle Fultz Trade\n",
    "\n",
    "As someone who grew up in Philadelphia and was a fan during The Process. This trade is something that keeps me up at night.\n",
    "\n",
    "Work in Progress..."
   ]
  },
  {
   "cell_type": "markdown",
   "metadata": {},
   "source": [
    "## Group by Draft Position (Lottery, Second Round, etc.)\n",
    "\n",
    "Work in Progress..."
   ]
  },
  {
   "cell_type": "markdown",
   "metadata": {},
   "source": [
    "## Group by *Drafted Postion* (Point Guard, Shooting Guard, Center, etc.)\n",
    "\n",
    "Work in Progress..."
   ]
  },
  {
   "cell_type": "markdown",
   "metadata": {},
   "source": [
    "## Group by Drafted Team (San Antonio, Cleveland Caveliers, etc.)\n",
    "\n",
    "Work in Progress..."
   ]
  }
 ],
 "metadata": {
  "celltoolbar": "Raw Cell Format",
  "kernelspec": {
   "display_name": "Python 3",
   "language": "python",
   "name": "python3"
  },
  "language_info": {
   "codemirror_mode": {
    "name": "ipython",
    "version": 3
   },
   "file_extension": ".py",
   "mimetype": "text/x-python",
   "name": "python",
   "nbconvert_exporter": "python",
   "pygments_lexer": "ipython3",
   "version": "3.8.8"
  }
 },
 "nbformat": 4,
 "nbformat_minor": 4
}
